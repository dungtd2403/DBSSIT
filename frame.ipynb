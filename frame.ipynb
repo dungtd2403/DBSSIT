{
 "cells": [
  {
   "cell_type": "code",
   "execution_count": 1,
   "metadata": {},
   "outputs": [
    {
     "ename": "IndentationError",
     "evalue": "unexpected indent (<ipython-input-1-d0f8c04cdef6>, line 11)",
     "output_type": "error",
     "traceback": [
      "\u001b[1;36m  File \u001b[1;32m\"<ipython-input-1-d0f8c04cdef6>\"\u001b[1;36m, line \u001b[1;32m11\u001b[0m\n\u001b[1;33m    if frame_num == 1678:\u001b[0m\n\u001b[1;37m    ^\u001b[0m\n\u001b[1;31mIndentationError\u001b[0m\u001b[1;31m:\u001b[0m unexpected indent\n"
     ]
    }
   ],
   "source": [
    "import cv2\n",
    "import os\n",
    "import time\n",
    "import tensorflow as tf\n",
    "import numpy as np\n",
    "import matplotlib.pyplot as plt\n",
    "\n",
    "from tensorflow.keras.metrics import TrueNegatives, TruePositives, FalseNegatives, FalsePositives\n",
    "from tensorflow.keras.callbacks import Callback, ModelCheckpoint, ReduceLROnPlateau, CSVLogger, EarlyStopping, LearningRateScheduler, TensorBoard\n",
    "CONFIG_NAME = \"config01\"\n",
    "MODEL_PATH = \"./saved_models/config01/model/model_.008-0.492780.h5\"\n",
    "from model.list_config import config01 as cfg_seg\n",
    "\n",
    "\n",
    "vidcap = cv2.VideoCapture('vid-3.mp4')\n",
    "success,image = vidcap.read()\n",
    "count = 0\n",
    "while True\n",
    "\n",
    "    if frame_num == :\n",
    "                \n",
    "                seg_img = cv2.resize(frame, (cfg_seg.image_size, cfg_seg.image_size), interpolation=cv2.INTER_NEAREST)\n",
    "                net_input = np.expand_dims(seg_img, axis=0)\n",
    "                pr_mask = seg_model.predict(net_input)[0]\n",
    "                #boolean_mask = pr_mask >= 0.5\n",
    "                pr_mask *= 255\n",
    "                pr_mask = pr_mask.astype(np.uint8)\n",
    "                #print(pr_mask.shape)\n",
    "                #print(pr_mask.argmax())\n",
    "                saved_mask = cv2.cvtColor(pr_mask, cv2.COLOR_GRAY2BGR)\n",
    "                cv2.imwrite('frame0.png',saved_mask)\n",
    "                #print(pr_mask)\n",
    "                #print(pr_mask.shape)"
   ]
  }
 ],
 "metadata": {
  "kernelspec": {
   "display_name": "Python 3",
   "language": "python",
   "name": "python3"
  },
  "language_info": {
   "codemirror_mode": {
    "name": "ipython",
    "version": 3
   },
   "file_extension": ".py",
   "mimetype": "text/x-python",
   "name": "python",
   "nbconvert_exporter": "python",
   "pygments_lexer": "ipython3",
   "version": "3.8.5"
  }
 },
 "nbformat": 4,
 "nbformat_minor": 4
}
